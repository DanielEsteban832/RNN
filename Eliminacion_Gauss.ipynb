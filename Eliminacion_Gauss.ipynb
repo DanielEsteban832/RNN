{
  "nbformat": 4,
  "nbformat_minor": 0,
  "metadata": {
    "colab": {
      "provenance": [],
      "authorship_tag": "ABX9TyOB6MroNewaHs59GcDPu3SA",
      "include_colab_link": true
    },
    "kernelspec": {
      "name": "python3",
      "display_name": "Python 3"
    },
    "language_info": {
      "name": "python"
    }
  },
  "cells": [
    {
      "cell_type": "markdown",
      "metadata": {
        "id": "view-in-github",
        "colab_type": "text"
      },
      "source": [
        "<a href=\"https://colab.research.google.com/github/DanielEsteban832/RNN/blob/main/Eliminacion_Gauss.ipynb\" target=\"_parent\"><img src=\"https://colab.research.google.com/assets/colab-badge.svg\" alt=\"Open In Colab\"/></a>"
      ]
    },
    {
      "cell_type": "markdown",
      "source": [
        "#Eliminación de Gauss"
      ],
      "metadata": {
        "id": "C3Svbd4vDR-c"
      }
    },
    {
      "cell_type": "code",
      "execution_count": 2,
      "metadata": {
        "colab": {
          "base_uri": "https://localhost:8080/"
        },
        "id": "oDJLVjEACLLW",
        "outputId": "c16084b1-d6f9-4ab0-fa45-789b5558ebf8"
      },
      "outputs": [
        {
          "output_type": "stream",
          "name": "stdout",
          "text": [
            "Solución para Planteamiento 1: [-1.3  0.4  1.9]\n",
            "Solución para Planteamiento 2: [  2.21907032 -25.07187128   6.57199046]\n"
          ]
        }
      ],
      "source": [
        "import numpy as np\n",
        "\n",
        "# Función para resolver un sistema de ecuaciones usando Eliminación de Gauss\n",
        "def gauss_elimination(A, b):\n",
        "    n = len(b)\n",
        "    # Eliminación hacia adelante (Forward elimination)\n",
        "    for i in range(n):\n",
        "        # Hacer que el elemento diagonal sea 1\n",
        "        factor = A[i, i]\n",
        "        A[i] = A[i] / factor  # Normalizar la fila\n",
        "        b[i] = b[i] / factor\n",
        "\n",
        "        # Hacer que los elementos debajo del pivote sean cero\n",
        "        for j in range(i+1, n):\n",
        "            factor = A[j, i]\n",
        "            A[j] = A[j] - factor * A[i]  # Restar múltiplos de la fila actual\n",
        "            b[j] = b[j] - factor * b[i]\n",
        "\n",
        "    # Sustitución hacia atrás (Back substitution)\n",
        "    x = np.zeros(n)  # Inicializar el vector solución\n",
        "    for i in range(n-1, -1, -1):\n",
        "        x[i] = b[i] - np.dot(A[i, i+1:], x[i+1:])  # Sustitución regresiva\n",
        "\n",
        "    return x\n",
        "\n",
        "# Planteamiento 1: Sistema de ecuaciones de gradientes\n",
        "A1 = np.array([[2, 3, 1], [4, 1, 2], [3, 4, 2]], dtype=float)  # Matriz de coeficientes\n",
        "b1 = np.array([0.5, -1.0, 1.5], dtype=float)  # Vector de términos independientes\n",
        "x1 = gauss_elimination(A1, b1)  # Resolver el sistema\n",
        "print(\"Solución para Planteamiento 1:\", x1)\n",
        "\n",
        "# Planteamiento 2: Otro sistema de ecuaciones de gradientes\n",
        "A2 = np.array([[3, -0.1, -0.2], [0.1, 0.7, -0.3], [0.3, -0.2, 10]], dtype=float)  # Matriz de coeficientes\n",
        "b2 = np.array([7.85, -19.3, 71.4], dtype=float)  # Vector de términos independientes\n",
        "x2 = gauss_elimination(A2, b2)  # Resolver el sistema\n",
        "print(\"Solución para Planteamiento 2:\", x2)\n",
        "\n"
      ]
    }
  ]
}